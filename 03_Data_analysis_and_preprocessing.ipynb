{
 "cells": [
  {
   "cell_type": "markdown",
   "id": "f2a12a47-54a7-42bf-bfdf-cb0112064bb8",
   "metadata": {},
   "source": [
    " # <b>1 <span style='color:#F76241'>|</span> Alright, lets build some nifty ML systems!</b>\n",
    "\n",
    "**Hold up, not so fast kiddo**. There are some steps we have to take before getting into predictive modeling. \n",
    "\n",
    "Typically, before throwing our data into a black box machine learning algorithm and praying that it works, we need to get to know our data a bit better. Specifically, we need to `understand certain statistics about the dataset` which will `help us when we start using ML`.\n",
    "\n"
   ]
  },
  {
   "cell_type": "code",
   "execution_count": null,
   "id": "d40c9ed6-71c3-413a-8d86-53c2a0b590f6",
   "metadata": {},
   "outputs": [],
   "source": []
  },
  {
   "cell_type": "markdown",
   "id": "deca81d7-34a8-44ad-be46-f88dd4b61556",
   "metadata": {},
   "source": []
  },
  {
   "cell_type": "code",
   "execution_count": null,
   "id": "792616a9-d3c8-470a-b198-1862c39a7932",
   "metadata": {},
   "outputs": [],
   "source": []
  }
 ],
 "metadata": {
  "kernelspec": {
   "display_name": "Python 3 (ipykernel)",
   "language": "python",
   "name": "python3"
  },
  "language_info": {
   "codemirror_mode": {
    "name": "ipython",
    "version": 3
   },
   "file_extension": ".py",
   "mimetype": "text/x-python",
   "name": "python",
   "nbconvert_exporter": "python",
   "pygments_lexer": "ipython3",
   "version": "3.11.1"
  }
 },
 "nbformat": 4,
 "nbformat_minor": 5
}
