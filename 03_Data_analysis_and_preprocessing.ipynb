{
 "cells": [
  {
   "cell_type": "markdown",
   "id": "f2a12a47-54a7-42bf-bfdf-cb0112064bb8",
   "metadata": {},
   "source": [
    "\n",
    " <h1 style=\"text-align: center;\" class=\"list-group-item list-group-item-action active\">Alright, lets build some nifty ML systems!</h1>\n",
    "\n",
    "Hold up, not so fast kiddo. There are some steps we have to take before getting into predictive modeling. \n",
    "\n",
    "Typically, before throwing our data into a black box machine learning algorithm and praying that it works, we need to get to know our data a bit better. Specifically, we need to `understand certain statistics about the dataset` which will `help us when we get to redictive modeling`.\n",
    "\n"
   ]
  },
  {
   "cell_type": "code",
   "execution_count": null,
   "id": "d40c9ed6-71c3-413a-8d86-53c2a0b590f6",
   "metadata": {},
   "outputs": [],
   "source": []
  },
  {
   "cell_type": "markdown",
   "id": "55ef0ff4-a509-4ecd-a8aa-cb8bc32f681a",
   "metadata": {
    "tags": []
   },
   "source": [
    " <h1 style=\"text-align: center;\" class=\"list-group-item list-group-item-action active\">Table of Contents</h1>\n",
    "\n",
    "<ul style=\"list-style-type:none;\">\n",
    "        <li><a class=\"list-group-item list-group-item-action\" data-toggle=\"list\" href=\"#1\" role=\"tab\"\n",
    "                aria-controls=\"settings\">1. Introduction<span class=\"badge badge-primary badge-pill\">1</span></a>\n",
    "        </li>\n",
    "        <li><a class=\"list-group-item list-group-item-action\" data-toggle=\"list\" href=\"#2\" role=\"tab\"\n",
    "                aria-controls=\"settings\">2. Handling Missing Values<span\n",
    "                    class=\"badge badge-primary badge-pill\">2</span></a>\n",
    "            <ul style=\"list-style-type:none;\">\n",
    "                <li><a class=\"list-group-item list-group-item-action\" data-toggle=\"list\" href=\"#2.1\" role=\"tab\"\n",
    "                        aria-controls=\"settings\">2.1 Visualizing Missing Data <span\n",
    "                            class=\"badge badge-primary badge-pill\">3</span></a>\n",
    "                    <ul style=\"list-style-type:none;\">\n",
    "                        <li><a class=\"list-group-item list-group-item-action\" data-toggle=\"list\" href=\"#2.1.1\"\n",
    "                                role=\"tab\" aria-controls=\"settings\">2.1.1 Matrix <span\n",
    "                                    class=\"badge badge-primary badge-pill\">4</span></a></li>\n",
    "                        <li><a class=\"list-group-item list-group-item-action\" data-toggle=\"list\" href=\"#2.1.2\"\n",
    "                                role=\"tab\" aria-controls=\"settings\">2.1.2 Correlation Heatmap <span\n",
    "                                    class=\"badge badge-primary badge-pill\">5</span></a></li>\n",
    "                        <li><a class=\"list-group-item list-group-item-action\" data-toggle=\"list\" href=\"#2.1.3\"\n",
    "                                role=\"tab\" aria-controls=\"settings\">2.1.3 Dendrogram <span\n",
    "                                    class=\"badge badge-primary badge-pill\">6</span></a></li>\n",
    "                        <li><a class=\"list-group-item list-group-item-action\" data-toggle=\"list\" href=\"#2.1.4\"\n",
    "                                role=\"tab\" aria-controls=\"settings\">2.1.4 Simple Numeric Summaries<span\n",
    "                                    class=\"badge badge-primary badge-pill\">7</span></a></li>\n",
    "                    </ul>\n",
    "                </li>\n",
    "                <li><a class=\"list-group-item list-group-item-action\" data-toggle=\"list\" href=\"#2.2\" role=\"tab\"\n",
    "                        aria-controls=\"settings\">2.2 Method to Handle Missing Data<span\n",
    "                            class=\"badge badge-primary badge-pill\">8</span></a>\n",
    "                    <ul style=\"list-style-type:none;\">\n",
    "                        <li><a class=\"list-group-item list-group-item-action\" data-toggle=\"list\" href=\"#2.2.1\"\n",
    "                                role=\"tab\" aria-controls=\"settings\">2.2.1 Deletion of Data <span\n",
    "                                    class=\"badge badge-primary badge-pill\">9</span></a></li>\n",
    "                        <li><a class=\"list-group-item list-group-item-action\" data-toggle=\"list\" href=\"#2.2.2\"\n",
    "                                role=\"tab\" aria-controls=\"settings\">2.2.2 Encoding Missingness<span\n",
    "                                    class=\"badge badge-primary badge-pill\">10</span></a></li>\n",
    "                        <li><a class=\"list-group-item list-group-item-action\" data-toggle=\"list\" href=\"#2.2.3\"\n",
    "                                role=\"tab\" aria-controls=\"settings\">2.2.3 Imputation Methods<span\n",
    "                                    class=\"badge badge-primary badge-pill\">11</span></a></li>\n",
    "                    </ul>\n",
    "                </li>\n",
    "            </ul>\n",
    "        </li>\n",
    "        <li><a class=\"list-group-item list-group-item-action\" data-toggle=\"list\" href=\"#3\" role=\"tab\"\n",
    "                aria-controls=\"settings\">3. Encoding Categorical Attributes<span\n",
    "                    class=\"badge badge-primary badge-pill\">12</span></a>\n",
    "            <ul style=\"list-style-type:none;\">\n",
    "                <li><a class=\"list-group-item list-group-item-action\" data-toggle=\"list\" href=\"#3.1\" role=\"tab\"\n",
    "                        aria-controls=\"settings\">3.1 Supervised Encoding Methods <span\n",
    "                            class=\"badge badge-primary badge-pill\">13</span></a>\n",
    "                    <ul style=\"list-style-type:none;\">\n",
    "                        <li><a class=\"list-group-item list-group-item-action\" data-toggle=\"list\" href=\"#3.1.1\"\n",
    "                                role=\"tab\" aria-controls=\"settings\">3.1.1 Likelihood Encoding <span\n",
    "                                    class=\"badge badge-primary badge-pill\">14</span></a></li>\n",
    "                        <li><a class=\"list-group-item list-group-item-action\" data-toggle=\"list\" href=\"#3.1.2\"\n",
    "                                role=\"tab\" aria-controls=\"settings\">3.1.2 Target Encoding <span\n",
    "                                    class=\"badge badge-primary badge-pill\">15</span></a></li>\n",
    "                        <li><a class=\"list-group-item list-group-item-action\" data-toggle=\"list\" href=\"#3.1.3\"\n",
    "                                role=\"tab\" aria-controls=\"settings\">3.1.3 Deep Learning Methods <span\n",
    "                                    class=\"badge badge-primary badge-pill\">16</span></a></li>\n",
    "                    </ul>\n",
    "                </li>\n",
    "                <li><a class=\"list-group-item list-group-item-action\" data-toggle=\"list\" href=\"#3.2\" role=\"tab\"\n",
    "                        aria-controls=\"settings\">3.2 Approaches for Novel Categories<span\n",
    "                            class=\"badge badge-primary badge-pill\">17</span></a>\n",
    "            </ul>\n",
    "        </li>\n",
    "        <li><a class=\"list-group-item list-group-item-action\" data-toggle=\"list\" href=\"#4\" role=\"tab\"\n",
    "            aria-controls=\"settings\">4. References <span\n",
    "                class=\"badge badge-primary badge-pill\">18</span></a> </li>\n",
    "\n",
    "\n",
    " </ul>\n"
   ]
  },
  {
   "cell_type": "markdown",
   "id": "deca81d7-34a8-44ad-be46-f88dd4b61556",
   "metadata": {},
   "source": []
  },
  {
   "cell_type": "code",
   "execution_count": null,
   "id": "792616a9-d3c8-470a-b198-1862c39a7932",
   "metadata": {},
   "outputs": [],
   "source": []
  }
 ],
 "metadata": {
  "kernelspec": {
   "display_name": "Python 3 (ipykernel)",
   "language": "python",
   "name": "python3"
  },
  "language_info": {
   "codemirror_mode": {
    "name": "ipython",
    "version": 3
   },
   "file_extension": ".py",
   "mimetype": "text/x-python",
   "name": "python",
   "nbconvert_exporter": "python",
   "pygments_lexer": "ipython3",
   "version": "3.11.1"
  }
 },
 "nbformat": 4,
 "nbformat_minor": 5
}
