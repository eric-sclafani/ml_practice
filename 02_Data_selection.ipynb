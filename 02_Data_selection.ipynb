{
 "cells": [
  {
   "cell_type": "markdown",
   "id": "78c731ae",
   "metadata": {},
   "source": [
    "# **Whats the deal with data?**\n",
    "\n",
    "As humans, our insatiable desire to `learn`, make `inferences` about things, and `predict future events` requires **knowledge** about the world. This knowledge is where <span style=\"color:hotpink\">data</span> comes in.\n",
    "\n",
    "**<span style=\"color:hotpink\">Data</span>** is the information that enables you to do all of those things mentioned above. For example:\n",
    "\n",
    "> Say I want to learn what about the **gender wage gap** in the US. I could collect the following data from a large amount of people working at various companies: <span style=\"color:lightblue\">gender</span>, <span style=\"color:lightblue\">age</span>, <span style=\"color:lightblue\">salary</span>, <span style=\"color:lightblue\">years spent at the company</span>, <span style=\"color:lightblue\">education level</span>, and so on. I could then plot this data to `look for trends`. I could also try to `predict` someone's salary based off this data.\n",
    "\n",
    "Today, you'd be hard pressed to find a single company or business that does _not_ utilize data in the decision making process. "
   ]
  },
  {
   "attachments": {},
   "cell_type": "markdown",
   "id": "73e12273",
   "metadata": {},
   "source": [
    "## Features, attributes, variables, or ... columns?\n",
    "\n",
    "When data is recorded, "
   ]
  },
  {
   "cell_type": "markdown",
   "id": "acf780a0",
   "metadata": {},
   "source": [
    "# **Choosing a data set**"
   ]
  },
  {
   "cell_type": "markdown",
   "id": "6c60749e",
   "metadata": {},
   "source": []
  },
  {
   "cell_type": "markdown",
   "id": "781873f5",
   "metadata": {},
   "source": []
  }
 ],
 "metadata": {
  "kernelspec": {
   "display_name": "Python 3 (ipykernel)",
   "language": "python",
   "name": "python3"
  },
  "language_info": {
   "codemirror_mode": {
    "name": "ipython",
    "version": 3
   },
   "file_extension": ".py",
   "mimetype": "text/x-python",
   "name": "python",
   "nbconvert_exporter": "python",
   "pygments_lexer": "ipython3",
   "version": "3.11.1"
  },
  "vscode": {
   "interpreter": {
    "hash": "8b15c1c45e7f2d5124f914f720cb75100a720c5b6adf7ef253ed0bdfcc4d8175"
   }
  }
 },
 "nbformat": 4,
 "nbformat_minor": 5
}
