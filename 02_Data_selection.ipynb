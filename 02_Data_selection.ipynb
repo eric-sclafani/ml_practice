{
 "cells": [
  {
   "cell_type": "markdown",
   "id": "78c731ae",
   "metadata": {
    "tags": []
   },
   "source": [
    "# **Data? I hardly know-a!**\n",
    "\n",
    "As humans, our insatiable desire to `learn`, make `inferences` about things, and `predict future events` requires **knowledge** about the world. This knowledge is where data comes in.\n",
    "\n",
    "**Data** is the information that enables you to do all of those things mentioned above. For example:\n",
    "\n",
    "> Say I want to learn what about the **gender wage gap** in the US. I could collect the following data from **entry level** employees working at company X (this data was made up for educational purposes):\n",
    "\n",
    "| Gender | Age | Salary (USD per hr) | Position type | Time spent at company X (months) | Education level |\n",
    "|--------|-----|---------------------|----------------|----------------------------------|-----------------|\n",
    "| M      | 26  | 49                  | Entry          | 8                                | Master's        |\n",
    "| M      | 32  | 55                  | Entry          | 15                               | Bachelor's      |\n",
    "| M      | 34  | 60                  | Entry          | 17                               | PhD             |\n",
    "| F      | 29  | 44                  | Entry          | 9                                | PhD             |\n",
    "| F      | 23  | 40                  | Entry          | 3                                | Bachelor's      |\n",
    "| F      | 48  | 54                  | Entry          | 30                               | Master's        |\n",
    "\n",
    "I could then plot this data to `look for trends` and also try to `predict` someone's salary (assuming I have a lot more than just six entries like above).\n",
    "\n",
    "Collections of data like this are called `datasets`. Today, you'd be hard pressed to find a single company or business that does _not_ utilize datasets in the decision making process. The role of data is becoming increasingly important as technology improves.\n",
    "\n",
    "Before selecting our datasets, first we need to go over a fundamental property of data: `features`!"
   ]
  },
  {
   "cell_type": "markdown",
   "id": "73e12273",
   "metadata": {},
   "source": [
    "## Features, attributes, variables, or ... columns?\n",
    "\n",
    "When looking at datasets, the pieces of information recorded about the subject go by different names depending on who you ask:\n",
    "\n",
    "- In `computer science`, they are called **features** or **attributes**. \n",
    "- In `statistics`, they are called **variables**\n",
    "- In `linear algebra`, they are the **columns** of an array/matrix\n",
    "\n",
    "This is the information that lets us teach machines to automatically do what we want and from this point on, I use the term **features**, as this is used in ML.\n",
    "\n",
    "An example of features:\n",
    "\n",
    "> Say I want to create a machine learning algorithm that `predicts company A's stock price` for the end of the week. To do this, I can use the **first six days' stock prices** as features to predict the last day (7).\n",
    "\n",
    "![](assets/stock.png)\n",
    "\n",
    "> Looking at the lineplot above, the stock price is generally increasing. Thus, my ML system will likely predict a number 64 or greater. \n",
    "\n",
    "## Flavors of features\n",
    "\n",
    "Not all features are equal. Features exhibit certain properties and are divided into two groups: `quantitative` and `qualitative` features. \n",
    "\n",
    "Below is a sample from the `Car sales` dataset located in the _**data/**_ directory. I will reference this data when describing these two types of features.\n",
    "\n",
    "\n",
    "|     | Make   | Model          |   Sales (thousands) | Vehicle_type   |   Price (thousands) |   Engine_size |   Horsepower |   Width |   Length |\n",
    "|----:|:---------------|:---------------|---------------------:|:---------------|---------------------:|--------------:|-------------:|--------:|---------:|\n",
    "|   0 | Acura          | Integra        |               16.919 | Passenger      |               21.5   |           1.8 |          140 |    67.3 |    172.4 |\n",
    "|   1 | Acura          | TL             |               39.384 | Passenger      |               28.4   |           3.2 |          225 |    70.3 |    192.9 |\n",
    "|   2 | Acura          | CL             |               14.114 | Passenger      |              nan     |           3.2 |          225 |    70.6 |    192   |\n",
    "|   3 | Acura          | RL             |                8.588 | Passenger      |               42     |           3.5 |          210 |    71.4 |    196.6 |\n",
    "|   4 | Audi           | A4             |               20.397 | Passenger      |               23.99  |           1.8 |          150 |    68.2 |    178   |\n",
    "|   5 | Audi           | A6             |               18.78  | Passenger      |               33.95  |           2.8 |          200 |    76.1 |    192   |\n",
    "|   6 | Audi           | A8             |                1.38  | Passenger      |               62     |           4.2 |          310 |    74   |    198.2 |\n",
    "|   7 | BMW            | 323i           |               19.747 | Passenger      |               26.99  |           2.5 |          170 |    68.4 |    176   |\n",
    "|   8 | BMW            | 328i           |                9.231 | Passenger      |               33.4   |           2.8 |          193 |    68.5 |    176   |\n",
    "|   9 | BMW            | 528i           |               17.527 | Passenger      |               38.9   |           2.8 |          193 |    70.9 |    188   |\n",
    "|  10 | Buick          | Century        |               91.561 | Passenger      |               21.975 |           3.1 |          175 |    72.7 |    194.6 |\n",
    "\n",
    "\n",
    "### *Quantitative*\n",
    "\n",
    "*`Quantitative features`* are ones recorded as numbers. This can be in the form of a ranking, a measurement, a count of occurences of things, and more. These types of features are also referred to as **numerical**.\n",
    "\n",
    "Looking at the `car sales` data in the table above, most of the features are numerical:\n",
    "- Sales (thousands)\n",
    "- Price (thousands)\n",
    "- Engine_size\n",
    "- Horsepower\n",
    "- Width\n",
    "- Length\n",
    "\n",
    "Using these `quantitative` features, I can look for certain relationships between the numbers:\n",
    "\n",
    "> Perhaps I can use **Horsepower** to `predict` the **Sales** column? Or maybe given the **Width** and **Length** columns, `predict` the **Price**?\n",
    "\n",
    "\n",
    "### *Qualitative*\n",
    "\n",
    "*`Qualitative`* features are *not* recorded as numbers. These are typically labels, names, or other non-numerical descriptions. This type of data is also called **categorical**, since these non-numerical labels are often categories of things.\n",
    "\n",
    "Looking at the `car sales` data in the table above, a few of the features are categorical:\n",
    "- Make\n",
    "- Model\n",
    "- Vehicle_type\n",
    "\n",
    "Using these `qualitative` features, I can make certain observations about the classes of data points:\n",
    "\n",
    "> Perhaps I can see which **Make** sells the best? Or which **Model** is the most expensive? I can also see which **Vehicle type** is the most popular\n",
    "\n",
    "Because there's so few qualitative examples in the `Car sales` dataset, here's another example of qualitative data recorded from college students:\n",
    "\n",
    "| Name    | Year      | Gender | Major                  | Commuter | Likes school |\n",
    "|---------|-----------|--------|------------------------|----------|--------------|\n",
    "| Hans    | Freshman  | M      | Computer science       | Yes      | No           |\n",
    "| Jack    | Senior    | M      | Biochemistry           | No       | Yes          |\n",
    "| Hailey  | Sophomore | F      | Electrical engineering | Yes      | Yes          |\n",
    "| Edward  | Senior    | M      | Anthropology           | Yes      | No           |\n",
    "| Cynthia | Freshman  | F      | Health Science         | No       | No           |\n",
    "| Sarah   | Senior    | F      | Journalism             | Yes      | Yes          |\n",
    "\n",
    "<div class=\"alert alert-block alert-info\"><b>Note:</b> Quantitative and qualitative features can further be broken down into sub-categories. Check out this neat <a href=\"https://statsandr.com/blog/variable-types-and-examples/\">webpage</a> for more information. </div>\n",
    "\n",
    "\n",
    "\n",
    "At this point, you should understand what data is and how it can be used to inform decisions. Now, we can start exploring datasets on the web!"
   ]
  },
  {
   "cell_type": "markdown",
   "id": "acf780a0",
   "metadata": {},
   "source": [
    "# **Picking a needle from a needlestack**\n",
    "\n",
    "Finally, we can move onto a more exciting part: **`dataset selection`**\n",
    "\n",
    "In this age of data, there are **_a lot_** of datasets on the web. And this raises an important question: **how do I choose the right one?**\n",
    "\n",
    "<img src=\"assets/datameme.jpg\"  width=\"300\" height=\"250\">\n",
    "\n",
    "<font size=\"1\"> (image <a href=\"https://www.memecreator.org/meme/you-get-a-dataset-everyone-gets-a-dataset-and-you-get-a-dataset-and-you-get-a-da/\">credits</a>) </font>\n",
    "\n",
    "The answer to this question: it depends on what your `goal` is. \n",
    "\n",
    "The `goal` of this project is to showcase the python data science/machine learning tool kit, so I will choose a dataset that clearly showcase how you can mold `quantitative` and `qualitative` data to answer questions and solve problems.\n",
    "\n",
    "## Where to find datasets 🔎\n",
    "\n",
    "As I mentioned above, there are many datasets in the wild. Here are some websites you can use to find your own:\n",
    "\n",
    "- [OpenML.org](https://www.openml.org/search?type=data&sort=runs&status=active)\n",
    "- [Kaggle.com](https://www.kaggle.com/datasets)\n",
    "- [UCI Machine Learning Repository](https://archive.ics.uci.edu/ml/index.php)\n",
    "- [Datasets subreddit](https://www.reddit.com/r/datasets/)\n",
    "- [NYC OpenData](https://opendata.cityofnewyork.us/)\n",
    "- [Awesome Public Datasets repository](https://github.com/awesomedata/awesome-public-datasets)\n",
    "\n",
    "\n",
    "\n"
   ]
  },
  {
   "cell_type": "markdown",
   "id": "db7c78eb",
   "metadata": {},
   "source": [
    "# **Exercises**"
   ]
  },
  {
   "cell_type": "code",
   "execution_count": 4,
   "id": "08765bbd",
   "metadata": {
    "collapsed": true,
    "jupyter": {
     "outputs_hidden": true,
     "source_hidden": true
    },
    "tags": [
     "hide-input"
    ]
   },
   "outputs": [
    {
     "name": "stdout",
     "output_type": "stream",
     "text": [
      "hi\n"
     ]
    }
   ],
   "source": [
    "print(\"hi\")"
   ]
  },
  {
   "cell_type": "code",
   "execution_count": null,
   "id": "1707c6c2",
   "metadata": {
    "tags": []
   },
   "outputs": [],
   "source": []
  },
  {
   "cell_type": "code",
   "execution_count": null,
   "id": "ed701eca",
   "metadata": {},
   "outputs": [],
   "source": []
  }
 ],
 "metadata": {
  "kernelspec": {
   "display_name": "Python 3 (ipykernel)",
   "language": "python",
   "name": "python3"
  },
  "language_info": {
   "codemirror_mode": {
    "name": "ipython",
    "version": 3
   },
   "file_extension": ".py",
   "mimetype": "text/x-python",
   "name": "python",
   "nbconvert_exporter": "python",
   "pygments_lexer": "ipython3",
   "version": "3.9.12"
  },
  "vscode": {
   "interpreter": {
    "hash": "8b15c1c45e7f2d5124f914f720cb75100a720c5b6adf7ef253ed0bdfcc4d8175"
   }
  }
 },
 "nbformat": 4,
 "nbformat_minor": 5
}
