{
 "cells": [
  {
   "attachments": {},
   "cell_type": "markdown",
   "id": "78c731ae",
   "metadata": {},
   "source": [
    "# **Whats the deal with data?**\n",
    "\n",
    "As humans, our insatiable desire to `learn`, make `inferences` about things, and `predict future events` requires **knowledge** about the world. This knowledge is where <span style=\"color:hotpink\">data</span> comes in.\n",
    "\n",
    "**<span style=\"color:hotpink\">Data</span>** is the information that enables you to do all of those things mentioned above. For example:\n",
    "\n",
    "> Say I want to learn what about the **gender wage gap** in the US. I could collect the following data from a large amount of people working at various companies: <span style=\"color:lightblue\">gender</span>, <span style=\"color:lightblue\">age</span>, <span style=\"color:lightblue\">salary</span>, <span style=\"color:lightblue\">years spent at the company</span>, <span style=\"color:lightblue\">education level</span>, and so on. I could then plot this data to `look for trends`. I could also try to `predict` someone's salary based off this data.\n",
    "\n",
    "Collections of data are called `data sets`. Today, you'd be hard pressed to find a single company or business that does _not_ utilize data sets in the decision making process. "
   ]
  },
  {
   "attachments": {},
   "cell_type": "markdown",
   "id": "73e12273",
   "metadata": {},
   "source": [
    "## Features, attributes, variables, or ... columns?\n",
    "\n",
    "When data is recorded, the bits of information we're interested in go by different names depending on who you ask:\n",
    "\n",
    "- In `computer science`, they are called <span style=\"color:orange\">features</span> or <span style=\"color:orange\">attributes</span>. \n",
    "- In `statistics`, they are called <span style=\"color:lightgreen\">variables</span>\n",
    "- In `linear algebra`, they are the <span style=\"color:lightblue\">columns</span> of an array/matrix\n",
    "\n",
    "This is the information that lets us teach machines to automatically do what we want. \n",
    "\n",
    "From this point on, I use the term <span style=\"color:orange\">features</span>, as this is used in `machine learning` (ML).\n",
    "\n",
    "An example of features:\n",
    "\n",
    "> Say I want to create a machine learning algorithm that `predicts Amazon's stock price` for the `following day`. I can record <span style=\"color:orange\">features</span> such as **today's stock prices**, **yesterday's stock prices**, **two days ago**, **three days ago**, etc... I can go as far back as I want. By using these <span style=\"color:orange\">features</span>, my ML algorithm will (ideally) learn how to predict the next day's stock price for Amazon by looking for patterns in the previous days' stock prices.\n",
    "\n",
    "## Flavors of features\n",
    "\n",
    "Not all features are equal. Features that exhibit certain properties are divided into two groups: `quantitative` and `qualitative` features. \n",
    "\n",
    "### *Quantitative*\n",
    "\n",
    "<span style=\"color:#ff494d\">Quantitative</span> features are ones recorded as numbers. This can be in the form of a ranking, a measurement, a count of occurences of things, and more. These types of features are also referred to as <span style=\"color:#ff494d\">numerical</span>.\n",
    "\n",
    "Examples of `quantitative features`:\n",
    "\n",
    "| Weight (lbs) | Height (ft) | Age | GPA (1-4) |\n",
    "|--------------|-------------|-----|-----------|\n",
    "| 163          | 5'6         | 17  | 2.9       |\n",
    "| 208          | 6'4         | 18  | 3.4       |\n",
    "| 123          | 5'5         | 16  | 3.8       |\n",
    "\n",
    "### *Qualitative*\n",
    "\n",
    "\n",
    "\n"
   ]
  },
  {
   "cell_type": "markdown",
   "id": "acf780a0",
   "metadata": {},
   "source": [
    "# **Choosing a data set**"
   ]
  },
  {
   "cell_type": "markdown",
   "id": "6c60749e",
   "metadata": {},
   "source": []
  },
  {
   "cell_type": "markdown",
   "id": "781873f5",
   "metadata": {},
   "source": []
  }
 ],
 "metadata": {
  "kernelspec": {
   "display_name": "Python 3 (ipykernel)",
   "language": "python",
   "name": "python3"
  },
  "language_info": {
   "codemirror_mode": {
    "name": "ipython",
    "version": 3
   },
   "file_extension": ".py",
   "mimetype": "text/x-python",
   "name": "python",
   "nbconvert_exporter": "python",
   "pygments_lexer": "ipython3",
   "version": "3.9.12"
  },
  "vscode": {
   "interpreter": {
    "hash": "8b15c1c45e7f2d5124f914f720cb75100a720c5b6adf7ef253ed0bdfcc4d8175"
   }
  }
 },
 "nbformat": 4,
 "nbformat_minor": 5
}
