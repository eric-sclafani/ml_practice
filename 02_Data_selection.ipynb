{
 "cells": [
  {
   "cell_type": "markdown",
   "id": "78c731ae",
   "metadata": {},
   "source": [
    "# **Whats the deal with data?**\n",
    "\n",
    "As humans, our insatiable desire to `learn`, make `inferences` about things, and `predict future events` requires **knowledge** about the world. This knowledge is where data comes in.\n",
    "\n",
    "**Data** is the information that enables you to do all of those things mentioned above. For example:\n",
    "\n",
    "> Say I want to learn what about the **gender wage gap** in the US. I could collect the following data from a large amount of people working at various companies:\n",
    "- gender\n",
    "- age\n",
    "- salary\n",
    "- years spent at the company\n",
    "- education level\n",
    "\n",
    "I could then plot this data to `look for trends`. I could also try to `predict` someone's salary based off this data.\n",
    "\n",
    "Collections of data like this are called `datasets`. Today, you'd be hard pressed to find a single company or business that does _not_ utilize datasets in the decision making process. The role of data is becoming increasingly important as technology improves.\n",
    "\n",
    "Before selecting our datasets, first we need to go over a fundamental property of data: `features`!"
   ]
  },
  {
   "cell_type": "markdown",
   "id": "73e12273",
   "metadata": {},
   "source": [
    "## Features, attributes, variables, or ... columns?\n",
    "\n",
    "When looking at datasets, the pieces of information recorded about the subject go by different names depending on who you ask:\n",
    "\n",
    "- In `computer science`, they are called **features** or **attributes**. \n",
    "- In `statistics`, they are called **variables**\n",
    "- In `linear algebra`, they are the **columns** of an array/matrix\n",
    "\n",
    "This is the information that lets us teach machines to automatically do what we want and from this point on, I use the term **features**, as this is used in ML.\n",
    "\n",
    "An example of features:\n",
    "\n",
    "> Say I want to create a machine learning algorithm that `predicts company A's stock price` for the end of the week. To do this, I can use the first six days' stock prices as features to predict the last day (7).\n",
    "\n",
    "![](assets/stock.png)\n",
    "\n",
    "> Looking at the lineplot above, the stock price is generally increasing. Thus, my ML system will likely predict a number greater than 64. \n",
    "\n",
    "## Flavors of features\n",
    "\n",
    "Not all features are equal. Features exhibit certain properties and are divided into two groups: `quantitative` and `qualitative` features. \n",
    "\n",
    "### *Quantitative*\n",
    "\n",
    "*`Quantitative features`* are ones recorded as numbers. This can be in the form of a ranking, a measurement, a count of occurences of things, and more. These types of features are also referred to as **numerical**.\n",
    "\n",
    "An example of `quantitative features` would be the following mini dataset containing measures from college students:\n",
    "\n",
    "| Weight (lbs) | Height (ft) | Age | GPA (1-4) | # of enrolled classes |\n",
    "|--------------|-------------|-----|-----------|-----------------------|\n",
    "| 163          | 5'6         | 19  | 2.9       | 3                     |\n",
    "| 208          | 6'4         | 24  | 3.3       | 4                     |\n",
    "| 123          | 5'5         | 21  | 3.7       | 4                     |\n",
    "| 90           | 5'3         | 25  | 2.9       | 2                     |\n",
    "| 176          | 5'8         | 19  | 3.9       | 5                     |\n",
    "| 198          | 6'0         | 20  | 3.0       | 3                     |\n",
    "\n",
    "> \n",
    "\n",
    "### *Qualitative*\n",
    "\n",
    "*`Qualitative`* features are *not* recorded as numbers. These are typically labels, names, or other non-numerical descriptions. This type of data is also called **categorical**, since these non-numerical labels are often categories of things.\n",
    "\n",
    "Continuting the theme of measuring data from college students, the following would be examples of `qualitative features`:\n",
    "\n",
    "| Name    | Year      | Gender | Major                  | Commuter | Likes school |\n",
    "|---------|-----------|--------|------------------------|----------|--------------|\n",
    "| Hans    | Freshman  | M      | Computer science       | Yes      | No           |\n",
    "| Jack    | Senior    | M      | Biochemistry           | No       | Yes          |\n",
    "| Hailey  | Sophomore | F      | Electrical engineering | Yes      | Yes          |\n",
    "| Edward  | Senior    | M      | Anthropology           | Yes      | No           |\n",
    "| Cynthia | Freshman  | F      | Health Science         | No       | No           |\n",
    "| Sarah   | Senior    | F      | Journalism             | Yes      | Yes          |\n",
    "\n",
    ">\n",
    "\n",
    "<div class=\"alert alert-block alert-info\"><b>Note:</b> Quantitative and qualitative features can further be broken down into sub-categories. Check out this neat <a href=\"https://statsandr.com/blog/variable-types-and-examples/\">webpage</a> for more information. </div>"
   ]
  },
  {
   "cell_type": "markdown",
   "id": "7aad8665",
   "metadata": {},
   "source": []
  },
  {
   "cell_type": "markdown",
   "id": "acf780a0",
   "metadata": {},
   "source": [
    "# **Choosing a data set**"
   ]
  },
  {
   "cell_type": "markdown",
   "id": "6c60749e",
   "metadata": {},
   "source": []
  },
  {
   "cell_type": "markdown",
   "id": "781873f5",
   "metadata": {},
   "source": []
  },
  {
   "cell_type": "code",
   "execution_count": null,
   "id": "8dd3c3f2",
   "metadata": {},
   "outputs": [],
   "source": []
  },
  {
   "cell_type": "code",
   "execution_count": null,
   "id": "c73c7e7a",
   "metadata": {},
   "outputs": [],
   "source": []
  }
 ],
 "metadata": {
  "kernelspec": {
   "display_name": "Python 3 (ipykernel)",
   "language": "python",
   "name": "python3"
  },
  "language_info": {
   "codemirror_mode": {
    "name": "ipython",
    "version": 3
   },
   "file_extension": ".py",
   "mimetype": "text/x-python",
   "name": "python",
   "nbconvert_exporter": "python",
   "pygments_lexer": "ipython3",
   "version": "3.11.1"
  },
  "vscode": {
   "interpreter": {
    "hash": "8b15c1c45e7f2d5124f914f720cb75100a720c5b6adf7ef253ed0bdfcc4d8175"
   }
  }
 },
 "nbformat": 4,
 "nbformat_minor": 5
}
