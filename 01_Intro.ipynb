{
 "cells": [
  {
   "cell_type": "markdown",
   "id": "b041b847",
   "metadata": {},
   "source": [
    " # <b>1 <span style='color:#F76241'>|</span> What is machine learning?</b>\n",
    "\n",
    "<font size=\"9\">M</font> achine learning (or `ML`for short) is the art of making programs that can *learn automatically from data*. \n",
    "\n",
    "What does `learn` mean in this context, you may be asking? \n",
    "\n",
    "> The \"learn\" in machine learning means a program can **teach itself** how to make decisions by reading vast amounts of data and looking for patterns. Machine learning systems are **never told explicitly** how to make decisions.\n",
    "\n",
    "When talking about `ML` systems, people often use the term `pipeline`, which I define as follows:\n",
    "\n",
    "> **A sequence of steps that are required for a ML system to function**. \n",
    "\n",
    "Wow, now that's an abstract and hard to visualize definition. The following is a visualization that shows it instead:\n",
    "\n",
    "<img src=\"assets/images/pipeline.jpg\"  width=\"600\" height=\"200\">\n",
    "<font size=\"1\"> (image <a href=\"https://valohai.com/machine-learning-pipeline/\">credits</a>) </font>\n",
    "\n",
    "Each step in the `pipeline` holds an **important function** that is vital for the machine learning system to operate. It's aptly named \"pipeline\" because you can imagine data as water, flowing through a pipeline comprised of pipes that have different functions:\n",
    "\n",
    "<img src=\"assets/images/real_pipeline.jpg\"  width=\"600\" height=\"200\">\n",
    "<font size=\"1\"> (image <a href=\"https://www.apollotechnical.com/what-is-pipeline-management-why-it-matters/\">credits</a>) </font>\n",
    "\n",
    "\n",
    "<div class=\"alert alert-block alert-info\"><b>Note:</b> The pipeline visualizations above contain only the <em>beginning</em> of a pipeline because later steps involve more complex things like model deployment and maintenance. These notebooks <b>only</b> cover <b>steps 1-4</b>. Additionally, sometimes the beginning of a pipeline may involve either <b>extra</b> or <b>less</b> steps. It's dependent on what you're working on. But the majority of them will follow the above structure. </div>\n",
    "\n",
    "Before diving into step 1 of the pipeline, there's some more machine learning background I need to cover. I *promise* we'll get to the fun predictive modeling soon. Trust me!\n",
    "\n",
    " # <b>2 <span style='color:#F76241'>|</span> Types of machine learning systems</b>\n",
    "\n",
    "Not all machine learning models are the same. The following two subsections define what **`supervised`** and **`unsupervised`** learning are and how they differ from each other.\n",
    " \n",
    "\n",
    "<div style=\"color:white;display:fill;border-radius:8px;\n",
    "            background-color:#323232;font-size:150%;\n",
    "            font-family:Nexa;letter-spacing:0.5px;\">\n",
    "    <p style=\"padding: 8px;color:white;text-align: center;\">2.1.<em> Supervised</em></p>\n",
    "</div>\n",
    "\n",
    "**`Supervised learning`**\n",
    "\n",
    "\n",
    "\n",
    "<div style=\"color:white;display:fill;border-radius:8px;\n",
    "            background-color:#323232;font-size:150%;\n",
    "            font-family:Nexa;letter-spacing:0.5px;\">\n",
    "    <p style=\"padding: 8px;color:white;text-align: center;\">2.2<em> Unsupervised</em></p>\n",
    "</div>\n",
    "\n",
    "\n",
    "<div class=\"alert alert-block alert-info\"><b>Note:</b> There are more types of learning, but they are not the focus of this walkthrough. Here are some of them: <a href=\"https://ai.stackexchange.com/questions/10623/what-is-self-supervised-learning-in-machine-learning\" target=\"_blank\">self-supervision</a>, <a href=\"https://www.altexsoft.com/blog/semi-supervised-learning/\" target=\"_blank\">semi-supervision</a>, <a href=\"https://www.snorkel.org/blog/weak-supervision\" target=\"_blank\">weak-supervision</a>, and <a href=\"https://www.synopsys.com/ai/what-is-reinforcement-learning.html\" target=\"_blank\">reinforcement learning</a>. They're not important for these notebooks, but feel free to read these links.</div>\n",
    "\n"
   ]
  },
  {
   "cell_type": "markdown",
   "id": "229555fb-3196-439a-abe1-6bda01511c96",
   "metadata": {},
   "source": [
    " # <b>3 <span style='color:#F76241'>|</span> Train, dev, test</b>"
   ]
  },
  {
   "cell_type": "code",
   "execution_count": null,
   "id": "88e5e075-0394-4476-a0d3-ab03c35cc732",
   "metadata": {},
   "outputs": [],
   "source": []
  }
 ],
 "metadata": {
  "kernelspec": {
   "display_name": "Python 3 (ipykernel)",
   "language": "python",
   "name": "python3"
  },
  "language_info": {
   "codemirror_mode": {
    "name": "ipython",
    "version": 3
   },
   "file_extension": ".py",
   "mimetype": "text/x-python",
   "name": "python",
   "nbconvert_exporter": "python",
   "pygments_lexer": "ipython3",
   "version": "3.11.1"
  },
  "vscode": {
   "interpreter": {
    "hash": "8b15c1c45e7f2d5124f914f720cb75100a720c5b6adf7ef253ed0bdfcc4d8175"
   }
  }
 },
 "nbformat": 4,
 "nbformat_minor": 5
}
