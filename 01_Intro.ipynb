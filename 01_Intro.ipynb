{
 "cells": [
  {
   "attachments": {},
   "cell_type": "markdown",
   "id": "b041b847",
   "metadata": {},
   "source": [
    "# What is **Machine Learning**?\n",
    "\n",
    "<span style=\"color:orange\"> Machine learning</span> (or <span style=\"color:orange\">ML</span> for short) is the art of making programs that can *learn automatically from data*. \n",
    "\n",
    "> What does `learn` mean in this context, you may be asking?\n",
    "\n",
    "The `learn` in ML means a program can **make decisions** without being explicltly told what to do. This is the key difference that separates ML systems from rule-based ones.\n"
   ]
  },
  {
   "cell_type": "markdown",
   "id": "7a8ddbe2",
   "metadata": {},
   "source": []
  }
 ],
 "metadata": {
  "kernelspec": {
   "display_name": "ml-practice-N8TlMJWo-py3.9",
   "language": "python",
   "name": "python3"
  },
  "language_info": {
   "codemirror_mode": {
    "name": "ipython",
    "version": 3
   },
   "file_extension": ".py",
   "mimetype": "text/x-python",
   "name": "python",
   "nbconvert_exporter": "python",
   "pygments_lexer": "ipython3",
   "version": "3.9.12"
  },
  "vscode": {
   "interpreter": {
    "hash": "8b15c1c45e7f2d5124f914f720cb75100a720c5b6adf7ef253ed0bdfcc4d8175"
   }
  }
 },
 "nbformat": 4,
 "nbformat_minor": 5
}
