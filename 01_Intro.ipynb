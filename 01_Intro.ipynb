{
 "cells": [
  {
   "cell_type": "markdown",
   "id": "b041b847",
   "metadata": {},
   "source": [
    " # <b>1 <span style='color:#F76241'>|</span> What is machine learning?</b>\n",
    "\n",
    "**`Machine learning`** (or `ML`for short) is the art of making programs that can *learn automatically from data*. \n",
    "\n",
    "> What does `learn` mean in this context, you may be asking? The `learn` in ML means a program can **teach itself** how to make decisions by reading vast amounts of data and looking for patterns. Machine learning systems are **never told explicitly** how to make decisions, which differentiates them from rule-based ones.\n",
    "\n",
    "When talking about **ML** systems, people often use the term `pipeline`, which I define as a sequence of steps that are required for a ML system to function. Wow, now that's an abstract and hard to visualize definition. \n",
    "\n",
    "The following graphic is a visualization of a `pipeline` in ML:\n",
    "\n",
    "<img src=\"assets/pipeline.jpg\"  width=\"600\" height=\"100\">\n",
    "<font size=\"1\"> (image <a href=\"https://valohai.com/machine-learning-pipeline/\">credits</a>) </font>\n",
    "\n",
    "\n",
    "\n",
    "<div style=\"color:white;display:fill;border-radius:8px;\n",
    "            background-color:#323232;font-size:150%;\n",
    "            font-family:Nexa;letter-spacing:0.5px\">\n",
    "    <p style=\"padding: 8px;color:white;text-align: center;\"><b> 1.1 Types of machine learning systems</b></p>\n",
    "</div>\n",
    "\n",
    "\n",
    "\n",
    "<div style=\"color:white;display:fill;border-radius:8px;\n",
    "            background-color:#323232;font-size:150%;\n",
    "            font-family:Nexa;letter-spacing:0.5px;\">\n",
    "    <p style=\"padding: 8px;color:white;text-align: center;\">1.1.1<em> Supervised</em></p>\n",
    "</div>\n",
    "\n",
    "\n",
    "\n",
    "<div style=\"color:white;display:fill;border-radius:8px;\n",
    "            background-color:#323232;font-size:150%;\n",
    "            font-family:Nexa;letter-spacing:0.5px;\">\n",
    "    <p style=\"padding: 8px;color:white;text-align: center;\">1.1.2<em> Unsupervised</em></p>\n",
    "</div>\n",
    "\n",
    "<div style=\"color:white;display:fill;border-radius:8px;\n",
    "            background-color:#323232;font-size:150%;\n",
    "            font-family:Nexa;letter-spacing:0.5px;\">\n",
    "    <p style=\"padding: 8px;color:white;text-align: center;\">1.1.2<em> Reinforcement learning</em></p>\n",
    "</div>\n",
    "\n",
    "<div class=\"alert alert-block alert-info\"><b>Note:</b> There are more types of supervised learning, but they are not the focus of this walkthrough. They are <a href=\"https://ai.stackexchange.com/questions/10623/what-is-self-supervised-learning-in-machine-learning\" target=\"_blank\">self-supervision</a>, <a href=\"https://www.altexsoft.com/blog/semi-supervised-learning/\" target=\"_blank\">semi-supervision</a>, and <a href=\"https://www.snorkel.org/blog/weak-supervision\" target=\"_blank\">weak-supervision</a>. They're not important for these notebooks, but feel free to read these links if you want.</div>\n",
    "\n"
   ]
  },
  {
   "cell_type": "markdown",
   "id": "7a8ddbe2",
   "metadata": {},
   "source": [
    " # <b>2 <span style='color:#F76241'>|</span> Supervised learning</b>"
   ]
  },
  {
   "cell_type": "markdown",
   "id": "229555fb-3196-439a-abe1-6bda01511c96",
   "metadata": {},
   "source": [
    " # <b>3 <span style='color:#F76241'>|</span> Train, dev, test</b>"
   ]
  },
  {
   "cell_type": "code",
   "execution_count": null,
   "id": "7670e72a-02da-4160-a16b-fe1cf8e76e7b",
   "metadata": {},
   "outputs": [],
   "source": []
  }
 ],
 "metadata": {
  "kernelspec": {
   "display_name": "Python 3 (ipykernel)",
   "language": "python",
   "name": "python3"
  },
  "language_info": {
   "codemirror_mode": {
    "name": "ipython",
    "version": 3
   },
   "file_extension": ".py",
   "mimetype": "text/x-python",
   "name": "python",
   "nbconvert_exporter": "python",
   "pygments_lexer": "ipython3",
   "version": "3.11.1"
  },
  "vscode": {
   "interpreter": {
    "hash": "8b15c1c45e7f2d5124f914f720cb75100a720c5b6adf7ef253ed0bdfcc4d8175"
   }
  }
 },
 "nbformat": 4,
 "nbformat_minor": 5
}
