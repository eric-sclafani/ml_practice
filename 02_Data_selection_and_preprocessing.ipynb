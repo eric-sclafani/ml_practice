{
 "cells": [
  {
   "attachments": {},
   "cell_type": "markdown",
   "id": "78c731ae",
   "metadata": {},
   "source": [
    "# **Whats the deal with data?**\n",
    "\n",
    "As humans, our insatiable desire to `learn`, make `inferences` about things, and `predict future events` requires **knowledge** about the world. This knowledge is where <span style=\"color:hotpink\">data</span> comes in.\n",
    "\n",
    "**<span style=\"color:hotpink\">Data</span>** is the information that enables you to do all of those things mentioned above. For example:\n",
    "\n",
    "> Say I want to learn what about the **gender wage gap** in the US. I could collect the following data from a large amount of people working at various companies: <span style=\"color:lightblue\">gender</span>, <span style=\"color:lightblue\">age</span>, <span style=\"color:lightblue\">salary</span>, <span style=\"color:lightblue\">years spent at the company</span>, <span style=\"color:lightblue\">education level</span>, and so on. I could then plot this data to `look for trends`. I could also try to `predict` someone's salary based off this data.\n",
    "\n",
    "Today, you'd be hard pressed to find a single company or business that does _not_ utilize <span style=\"color:hotpink\">data</span> in the decision making process. \n",
    "\n",
    "## **Types of data**\n",
    "\n",
    " When you collect data from a source, you are attaining `distinct characteristics that define the group you are measuring from`. These characteristics are called `variables`. This term is also used synonomously with `feature` and `attribute`. In the example above, <span style=\"color:lightblue\">gender</span>, <span style=\"color:lightblue\">age</span>, <span style=\"color:lightblue\">salary</span>, etc would all be different variables. \n",
    " \n",
    "However, not all data is the same. Data can have varying properties that \n",
    "\n",
    "# **Population vs Sample**\n",
    "\n",
    "## **Population**\n",
    "\n",
    "A **population** is an *entire* collection of people, objects, or other things of interest that you want to record meaningful **features** from. \n",
    "However, we often *do not* have access to *the entire population* of whatever we're measuring. For example:\n",
    "\n",
    "> Imagine I want to predict an American high school student's GPA given certain features like hours studied, test grades, number of classes skipped, etc. In this case, the population is every single high school student in the US, which is over ten million. Interviewing every student here, however, is not plausible. There are too many students, and I don't have time for that!\n",
    "\n",
    "Instead, I "
   ]
  },
  {
   "cell_type": "markdown",
   "id": "eb762d42",
   "metadata": {},
   "source": []
  },
  {
   "cell_type": "markdown",
   "id": "acf780a0",
   "metadata": {},
   "source": []
  }
 ],
 "metadata": {
  "kernelspec": {
   "display_name": "ml-practice-N8TlMJWo-py3.9",
   "language": "python",
   "name": "python3"
  },
  "language_info": {
   "codemirror_mode": {
    "name": "ipython",
    "version": 3
   },
   "file_extension": ".py",
   "mimetype": "text/x-python",
   "name": "python",
   "nbconvert_exporter": "python",
   "pygments_lexer": "ipython3",
   "version": "3.9.12"
  },
  "vscode": {
   "interpreter": {
    "hash": "8b15c1c45e7f2d5124f914f720cb75100a720c5b6adf7ef253ed0bdfcc4d8175"
   }
  }
 },
 "nbformat": 4,
 "nbformat_minor": 5
}
